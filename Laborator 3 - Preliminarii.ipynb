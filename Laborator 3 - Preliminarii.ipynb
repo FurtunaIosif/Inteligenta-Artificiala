{
 "cells": [
  {
   "cell_type": "code",
   "execution_count": 2,
   "metadata": {},
   "outputs": [
    {
     "name": "stdout",
     "output_type": "stream",
     "text": [
      "Produsul scalar este :  9\n",
      "Lungimea vectorului x este :  3.0\n",
      "Lungimea vectorului y este :  4.242640687119285\n",
      "Cosinusul celor 2 vectori este:  0.7071067811865476\n",
      "Punctul  0 apartine clasei 2.\n",
      "Punctul  1 apartine clasei 2.\n",
      "Punctul  2 apartine clasei 2.\n",
      "Punctul  3 apartine clasei 1.\n",
      "Punctul  4 apartine clasei 1.\n",
      "Punctul  5 apartine clasei 1.\n",
      "Punctul  6 apartine clasei 1.\n",
      "Punctul  7 apartine clasei 1.\n",
      "A doua iesire o2 este  0 .\n",
      "A treia iesire o3 este  -1 .\n",
      "Prima iesire o1 este  1 .\n",
      "A doua iesire o2 este  1 .\n",
      "A treia iesire o3 este  -1 .\n",
      "Prima iesire o1 este  1 .\n",
      "A doua iesire o2 este  1 .\n",
      "A treia iesire o3 este  -1 .\n",
      "Prima iesire o1 este  1 .\n",
      "A doua iesire o2 este  1 .\n",
      "A treia iesire o3 este  -1 .\n",
      "Prima iesire o1 este  1 .\n",
      "A doua iesire o2 este  1 .\n",
      "A treia iesire o3 este  -1 .\n",
      "Prima iesire o1 este  1 .\n"
     ]
    }
   ],
   "source": [
    "import numpy as np\n",
    "x = [2, 1, 2]\n",
    "y = [1, -1 , 4]\n",
    "ps = 0\n",
    "\n",
    "lv1 = 0\n",
    "lv2 = 0\n",
    "\n",
    "ps = np.dot(x,y)\n",
    "print (\"Produsul scalar este : \", ps)\n",
    "\n",
    "for i in range (3):\n",
    "    lv1 += x[i]**2\n",
    "    lv2 += y[i]**2\n",
    "    \n",
    "print(\"Lungimea vectorului x este : \", np.sqrt(lv1))\n",
    "print(\"Lungimea vectorului y este : \", np.sqrt(lv2))\n",
    "print(\"Cosinusul celor 2 vectori este: \", ps / (np.sqrt(lv1)*np.sqrt(lv2)))\n",
    "\n",
    "c = 1\n",
    "m = [[-1,-1,-1], [-1,-1,1], [-1,1,-1], [-1,1,1], [1,-1,1], [1,-1,1], [1,1,-1], [1,1,1]]\n",
    "for i in range (0,8):\n",
    "    n = 0\n",
    "    for j in range (0,3):\n",
    "        n += m[i][j]*c\n",
    "    if np.sign(n) == 1:\n",
    "        print(\"Punctul \", i, \"apartine clasei 1.\")\n",
    "    else:\n",
    "        print(\"Punctul \", i, \"apartine clasei 2.\")\n",
    "    \n",
    "o1 = o2 = o3 = 1\n",
    "i = 0\n",
    "\n",
    "while i < 5:\n",
    "    o2 = np.sign(o1*1 + o3*(-1))\n",
    "    print(\"A doua iesire o2 este \",o2,\".\")\n",
    "    o3 = np.sign(o2*(-1) + o1*(-1))\n",
    "    print(\"A treia iesire o3 este \",o3,\".\")\n",
    "    o1 = np.sign(o3*(-1) + o2*1)\n",
    "    print(\"Prima iesire o1 este \",o1,\".\")\n",
    "    i = i + 1"
   ]
  },
  {
   "cell_type": "code",
   "execution_count": null,
   "metadata": {},
   "outputs": [],
   "source": []
  },
  {
   "cell_type": "code",
   "execution_count": null,
   "metadata": {},
   "outputs": [],
   "source": []
  }
 ],
 "metadata": {
  "kernelspec": {
   "display_name": "Python 3",
   "language": "python",
   "name": "python3"
  },
  "language_info": {
   "codemirror_mode": {
    "name": "ipython",
    "version": 3
   },
   "file_extension": ".py",
   "mimetype": "text/x-python",
   "name": "python",
   "nbconvert_exporter": "python",
   "pygments_lexer": "ipython3",
   "version": "3.7.0"
  }
 },
 "nbformat": 4,
 "nbformat_minor": 2
}
