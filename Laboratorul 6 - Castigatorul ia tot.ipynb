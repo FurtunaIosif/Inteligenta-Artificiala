{
 "cells": [
  {
   "cell_type": "code",
   "execution_count": 6,
   "metadata": {},
   "outputs": [
    {
     "name": "stdout",
     "output_type": "stream",
     "text": [
      "--------------- 12  Epoci de invatare------------------\n",
      "w1 final este\n",
      "[37.19999999999999, 84.80000000000001]\n",
      "w2 final este\n",
      "[46.19999999999999, 40.0]\n",
      "w3 final este\n",
      "[210.0, 40.0]\n"
     ]
    }
   ],
   "source": [
    "import numpy as np\n",
    "import math\n",
    "w1  = [70,80]\n",
    "w2 = [75,50]\n",
    "w3 = [120,48]\n",
    "w1m  = [70,80]\n",
    "w2m = [75,50]\n",
    "w3m = [120,48]\n",
    "j = 0\n",
    "c = 0.1\n",
    "l = [45,50,40,55,200,48,195,43,190]\n",
    "i = [85,43,80,42,43,40,41,87,40]\n",
    "while j < 10:\n",
    "    for x in range(0,9):\n",
    "        d1 = math.sqrt((l[x] - w1[0])**2 +(i[x] - w1[1])**2)\n",
    "        d2 = math.sqrt((l[x] - w2[0])**2 +(i[x] - w2[1])**2)\n",
    "        d3 = math.sqrt((l[x] - w3[0])**2 +(i[x] - w3[1])**2)\n",
    "        if d1 < d2 and d1 < d3:\n",
    "            w1[0] = w1[0] + c*(l[x] - w1m[0])\n",
    "            w1[1] = w1[1] + c*(i[x] - w1m[1])\n",
    "        elif d2 < d1 and d2 < d3:\n",
    "                    w2[0] = w2[0] + c*(l[x] - w2m[0])\n",
    "                    w2[1] = w2[1] + c*(i[x] - w2m[1])\n",
    "        elif d3 < d1 and d3 < d2:\n",
    "                        w3[0] = w3[0] + c*(l[x] - w3m[0])\n",
    "                        w3[1] = w3[1] + c*(i[x] - w3m[1])\n",
    "                        j += 1\n",
    "print(\"---------------\",j,\" Epoci de invatare------------------\")\n",
    "print(\"w1 final este\")\n",
    "print(w1)\n",
    "print(\"w2 final este\")\n",
    "print(w2)\n",
    "print(\"w3 final este\")\n",
    "print(w3)\n",
    "\n",
    "    "
   ]
  },
  {
   "cell_type": "code",
   "execution_count": null,
   "metadata": {},
   "outputs": [],
   "source": []
  },
  {
   "cell_type": "code",
   "execution_count": null,
   "metadata": {},
   "outputs": [],
   "source": []
  },
  {
   "cell_type": "code",
   "execution_count": null,
   "metadata": {},
   "outputs": [],
   "source": []
  },
  {
   "cell_type": "code",
   "execution_count": null,
   "metadata": {},
   "outputs": [],
   "source": []
  }
 ],
 "metadata": {
  "kernelspec": {
   "display_name": "Python 3",
   "language": "python",
   "name": "python3"
  },
  "language_info": {
   "codemirror_mode": {
    "name": "ipython",
    "version": 3
   },
   "file_extension": ".py",
   "mimetype": "text/x-python",
   "name": "python",
   "nbconvert_exporter": "python",
   "pygments_lexer": "ipython3",
   "version": "3.7.0"
  }
 },
 "nbformat": 4,
 "nbformat_minor": 2
}
