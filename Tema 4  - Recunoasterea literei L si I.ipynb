{
 "cells": [
  {
   "cell_type": "code",
   "execution_count": 51,
   "metadata": {},
   "outputs": [
    {
     "name": "stdout",
     "output_type": "stream",
     "text": [
      "Output-ul dorit -1\n",
      "Output-ul obtinut [-0.9958249045334251]\n",
      "Litera este I!\n",
      "Output-ul dorit 1\n",
      "Output-ul obtinut [0.9951742906525467]\n",
      "Litera este L!\n"
     ]
    }
   ],
   "source": [
    "import numpy as np\n",
    "import random\n",
    "e = 2.71\n",
    "c = 0.20\n",
    "\n",
    "\n",
    "input = [[-1, 1, -1, -1, 1, -1, -1, 1, -1], [1, -1, -1, 1, -1, -1, 1, 1, 1]]\n",
    "d = [-1, 1]\n",
    "w = [0, -1, 1, -1, 0, 1, -1, 0, -1]\n",
    "\n",
    "def output(i):\n",
    "    net = np.dot(input[i], w)\n",
    "    output = (2 / (1 + e**(-net))) - 1\n",
    "    return output\n",
    "\n",
    "def instruire():\n",
    "    global w\n",
    "    v = 0\n",
    "    Emax = 5\n",
    "    while v < 5000:\n",
    "        for i in range(0, 2):\n",
    "            n = 0\n",
    "            E = 0  \n",
    "            o = output(i)\n",
    "            w = np.add(w,np.dot(input[i],c*(d[i] - o)*(1 - (o**2))))\n",
    "            E = E + (d[i] - o)**2\n",
    "            \n",
    "        if E > Emax:\n",
    "            print(\"se acceseaza main\")\n",
    "            main()\n",
    "        v = v + 1 \n",
    "                \n",
    "\n",
    "def afisare():\n",
    "    global w\n",
    "    for i in range(0, 2):\n",
    "            n = 0\n",
    "            E = 0\n",
    "            lista = []\n",
    "            print(\"Output-ul dorit\",d[i])\n",
    "            o = output(i)\n",
    "            lista.append(o)\n",
    "            w = np.add(w,np.dot(input[i],c*(d[i] - o)*(1 - (o**2))))\n",
    "            E = E + (d[i] - o)**2\n",
    "            \n",
    "            print(\"Output-ul obtinut\", lista)\n",
    "            \n",
    "            if lista[0] <= -0.98:\n",
    "                print(\"Litera este I!\")\n",
    "            if lista[0] >= 0.98:\n",
    "                print(\"Litera este L!\")\n",
    "        \n",
    "            del lista[:]\n",
    "\n",
    "\n",
    "            \n",
    "def main():\n",
    "    instruire()\n",
    "    afisare()\n",
    "main()"
   ]
  },
  {
   "cell_type": "code",
   "execution_count": null,
   "metadata": {},
   "outputs": [],
   "source": []
  }
 ],
 "metadata": {
  "kernelspec": {
   "display_name": "Python 3",
   "language": "python",
   "name": "python3"
  },
  "language_info": {
   "codemirror_mode": {
    "name": "ipython",
    "version": 3
   },
   "file_extension": ".py",
   "mimetype": "text/x-python",
   "name": "python",
   "nbconvert_exporter": "python",
   "pygments_lexer": "ipython3",
   "version": "3.7.0"
  }
 },
 "nbformat": 4,
 "nbformat_minor": 2
}
