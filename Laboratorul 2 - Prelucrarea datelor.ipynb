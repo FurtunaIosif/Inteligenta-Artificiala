{
 "cells": [
  {
   "cell_type": "code",
   "execution_count": 11,
   "metadata": {},
   "outputs": [
    {
     "name": "stdout",
     "output_type": "stream",
     "text": [
      "4.3\n",
      "7.9\n",
      "5.843333333333334\n",
      "5.8\n",
      "2.0\n",
      "4.4\n",
      "3.0540000000000003\n",
      "3.0540000000000003\n",
      "1.0\n",
      "6.9\n",
      "3.758666666666666\n",
      "3.758666666666666\n",
      "0.1\n",
      "2.5\n",
      "1.1986666666666668\n",
      "1.1986666666666668\n"
     ]
    }
   ],
   "source": [
    "import csv\n",
    "myList = []\n",
    "with open('C:\\\\Users\\\\furtu\\\\Desktop\\\\iris.data') as csvfile:\n",
    "    readCSV = csv.reader(csvfile, delimiter=',')\n",
    "    for row in readCSV:\n",
    "        if len(row) == 5:\n",
    "            myList.append([float(row[0]), float(row[1]), float(row[2]), float(row[3])])\n",
    "import numpy as np\n",
    "npArray = np.array(myList)\n",
    "col0_min = np.min(npArray[:,0])\n",
    "col0_max = np.max(npArray[:,0])\n",
    "col0_med = np.mean(npArray[:,0])\n",
    "col0_median = np.median(npArray[:,0])\n",
    "col0_norm = (npArray[:,0]-min(npArray[:,0])) / (max(npArray[:,0])-min(npArray[:,0]))\n",
    "col1_min = np.min(npArray[:,1])\n",
    "col1_max = np.max(npArray[:,1])\n",
    "col1_med = np.mean(npArray[:,1])\n",
    "col1_median = np.mean(npArray[:,1])\n",
    "col1_norm = (npArray[:,1]-min(npArray[:,1])) / (max(npArray[:,1])-min(npArray[:,1]))\n",
    "col2_min = np.min(npArray[:,2])\n",
    "col2_max = np.max(npArray[:,2])\n",
    "col2_med = np.mean(npArray[:,2])\n",
    "col2_median = np.mean(npArray[:,2])\n",
    "col2_norm = (npArray[:,2]-min(npArray[:,2])) / (max(npArray[:,2])-min(npArray[:,2]))\n",
    "col3_min = np.min(npArray[:,3])\n",
    "col3_max = np.max(npArray[:,3])\n",
    "col3_med = np.mean(npArray[:,3])\n",
    "col3_median = np.mean(npArray[:,3])\n",
    "col3_norm = (npArray[:,3]-min(npArray[:,3])) / (max(npArray[:,3])-min(npArray[:,3]))\n",
    "for x in range(0,150):\n",
    "    z = (npArray[x,0] * 0.2) + (npArray[x,1] * 1.1) + (npArray[x,2] * (-0.9)) + (npArray[x,3] * 1)\n",
    "    file = open('C:\\\\Users\\\\furtu\\\\Desktop\\\\iris.data.txt',\"a\")\n",
    "    file.write(str(z))\n",
    "    file.close()\n",
    "print(col0_min)\n",
    "print(col0_max)\n",
    "print(col0_med)\n",
    "print(col0_median)\n",
    "\n",
    "print(col1_min)\n",
    "print(col1_max)\n",
    "print(col1_med)\n",
    "print(col1_median)\n",
    "\n",
    "print(col2_min)\n",
    "print(col2_max)\n",
    "print(col2_med)\n",
    "print(col2_median)\n",
    "\n",
    "print(col3_min)\n",
    "print(col3_max)\n",
    "print(col3_med)\n",
    "print(col3_median)"
   ]
  },
  {
   "cell_type": "code",
   "execution_count": null,
   "metadata": {},
   "outputs": [],
   "source": []
  },
  {
   "cell_type": "code",
   "execution_count": null,
   "metadata": {},
   "outputs": [],
   "source": []
  },
  {
   "cell_type": "code",
   "execution_count": null,
   "metadata": {},
   "outputs": [],
   "source": []
  },
  {
   "cell_type": "code",
   "execution_count": null,
   "metadata": {},
   "outputs": [],
   "source": []
  }
 ],
 "metadata": {
  "kernelspec": {
   "display_name": "Python 3",
   "language": "python",
   "name": "python3"
  },
  "language_info": {
   "codemirror_mode": {
    "name": "ipython",
    "version": 3
   },
   "file_extension": ".py",
   "mimetype": "text/x-python",
   "name": "python",
   "nbconvert_exporter": "python",
   "pygments_lexer": "ipython3",
   "version": "3.7.0"
  }
 },
 "nbformat": 4,
 "nbformat_minor": 2
}
