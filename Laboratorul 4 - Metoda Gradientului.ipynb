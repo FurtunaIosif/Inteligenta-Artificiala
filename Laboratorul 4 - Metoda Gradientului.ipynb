{
 "cells": [
  {
   "cell_type": "code",
   "execution_count": 1,
   "metadata": {},
   "outputs": [
    {
     "name": "stdout",
     "output_type": "stream",
     "text": [
      "Minimul local al functiei este :  1.0000672310348626\n"
     ]
    }
   ],
   "source": [
    "# Minimul functiei g(x,y) =  6*x**2 - 12*x + 1\n",
    "xn = 5\n",
    "\n",
    "c = 0.01 \n",
    "p = 0.00001\n",
    "pss = 10000 \n",
    "max_i = 1000 \n",
    "i = 0 \n",
    "\n",
    "df = lambda x: 12*x - 12\n",
    "\n",
    "while pss > p and i < max_i:\n",
    "    xn_1 = xn\n",
    "    xn -= c * df(xn_1)\n",
    "    pss = abs(xn - xn_1)\n",
    "    i = i + 1\n",
    "\n",
    "print(\"Minimul local al functiei este : \", xn)"
   ]
  },
  {
   "cell_type": "code",
   "execution_count": 11,
   "metadata": {},
   "outputs": [
    {
     "name": "stdout",
     "output_type": "stream",
     "text": [
      "Minimul local al functiei este :  0.0004839526825800909\n"
     ]
    }
   ],
   "source": [
    "# Minimul functiei g(x,y) =  x**2 + 2*y**2\n",
    "xn = 5\n",
    "yn = 5\n",
    "\n",
    "c = 0.01 \n",
    "p = 0.00001\n",
    "pss = 10000 \n",
    "pss2 = 10000\n",
    "max_i = 1000 \n",
    "i = 0 \n",
    "\n",
    "df = lambda x,y: 2*x + 2*y**2\n",
    "df2 = lambda x,y: x**2 + 4*y\n",
    "while pss > p and pss2 > p and i < max_i:\n",
    "    xn_1 = xn\n",
    "    yn_1 = yn\n",
    "    \n",
    "    xn -= c * df(xn_1,yn_1)\n",
    "    yn -= c * df(xn_1,yn_1)\n",
    "    \n",
    "    pss = abs(xn - xn_1)\n",
    "    pss = abs(yn - yn_1)\n",
    "    \n",
    "print(\"Minimul local al functiei este : \", xn)"
   ]
  },
  {
   "cell_type": "code",
   "execution_count": 17,
   "metadata": {},
   "outputs": [
    {
     "name": "stdout",
     "output_type": "stream",
     "text": [
      "Minimul local al functiei este :  0.009519036252613262\n"
     ]
    }
   ],
   "source": [
    "# Minimul functiei g(x,y) = 5*x**3 - 4*y*2\n",
    "xn = 2\n",
    "yn = 2\n",
    "\n",
    "c = 0.01 \n",
    "p = 0.00001\n",
    "pss = 10000 \n",
    "pss2 = 10000\n",
    "max_i = 1000 \n",
    "i = 0 \n",
    "\n",
    "df = lambda x,y: 15*x**2 - 4*y**2\n",
    "df2 = lambda x,y: 5*x**3 - 8*y\n",
    "while pss > p and pss2 > p and i < max_i:\n",
    "    xn_1 = xn\n",
    "    yn_1 = yn\n",
    "    \n",
    "    xn -= c * df(xn_1,yn_1)\n",
    "    yn -= c * df(xn_1,yn_1)\n",
    "    \n",
    "    pss = abs(xn - xn_1)\n",
    "    pss = abs(yn - yn_1)\n",
    "print(\"Minimul local al functiei este : \", xn)    "
   ]
  },
  {
   "cell_type": "code",
   "execution_count": null,
   "metadata": {},
   "outputs": [],
   "source": []
  }
 ],
 "metadata": {
  "kernelspec": {
   "display_name": "Python 3",
   "language": "python",
   "name": "python3"
  },
  "language_info": {
   "codemirror_mode": {
    "name": "ipython",
    "version": 3
   },
   "file_extension": ".py",
   "mimetype": "text/x-python",
   "name": "python",
   "nbconvert_exporter": "python",
   "pygments_lexer": "ipython3",
   "version": "3.7.0"
  }
 },
 "nbformat": 4,
 "nbformat_minor": 2
}
